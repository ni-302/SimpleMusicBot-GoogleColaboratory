{
  "nbformat": 4,
  "nbformat_minor": 0,
  "metadata": {
    "colab": {
      "provenance": [],
      "authorship_tag": "ABX9TyMyKxZ+eXtx877NguzosIqr",
      "include_colab_link": true
    },
    "kernelspec": {
      "name": "python3",
      "display_name": "Python 3"
    },
    "language_info": {
      "name": "python"
    }
  },
  "cells": [
    {
      "cell_type": "markdown",
      "metadata": {
        "id": "view-in-github",
        "colab_type": "text"
      },
      "source": [
        "<a href=\"https://colab.research.google.com/github/ni-302/SimpleMusicBot-GoogleColaboratory/blob/main/SimpleMusicBot%20For%20Google%20Coraboratory.ipynb\" target=\"_parent\"><img src=\"https://colab.research.google.com/assets/colab-badge.svg\" alt=\"Open In Colab\"/></a>"
      ]
    },
    {
      "cell_type": "code",
      "execution_count": null,
      "metadata": {
        "id": "h0oM6SJhzmsZ"
      },
      "outputs": [],
      "source": [
        "!wget https://api.github.com/repos/ni-302/SimpleMusicBot-GoogleColaboratory/releases/latest/main.py\n",
        "!python main.py"
      ]
    }
  ]
}