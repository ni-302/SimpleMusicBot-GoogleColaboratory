{
  "nbformat": 4,
  "nbformat_minor": 0,
  "metadata": {
    "colab": {
      "provenance": [],
      "authorship_tag": "ABX9TyMjtQwXxkauc75XjC4/gLz+",
      "include_colab_link": true
    },
    "kernelspec": {
      "name": "python3",
      "display_name": "Python 3"
    },
    "language_info": {
      "name": "python"
    }
  },
  "cells": [
    {
      "cell_type": "markdown",
      "metadata": {
        "id": "view-in-github",
        "colab_type": "text"
      },
      "source": [
        "<a href=\"https://colab.research.google.com/github/ni-302/SimpleMusicBot-GoogleColaboratory/blob/main/SimpleMusicBot%20For%20Google%20Coraboratory.ipynb\" target=\"_parent\"><img src=\"https://colab.research.google.com/assets/colab-badge.svg\" alt=\"Open In Colab\"/></a>"
      ]
    },
    {
      "cell_type": "code",
      "execution_count": null,
      "metadata": {
        "id": "h0oM6SJhzmsZ"
      },
      "outputs": [],
      "source": [
        "!python -m pip install py-cord \"py-cord[voice]\" \"py-cord[speed]\" yt-dlp configparser colorama\n",
        "!wget https://github.com/ni-302/SimpleMusicBot-GoogleColaboratory/releases/latest/download/main.py -O /content/main.py\n",
        "!python main.py"
      ]
    }
  ]
}